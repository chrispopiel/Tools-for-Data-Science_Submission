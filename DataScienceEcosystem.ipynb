{
 "cells": [
  {
   "cell_type": "markdown",
   "id": "e6fe0927",
   "metadata": {},
   "source": [
    "# Data Science Tools and Ecosystem"
   ]
  },
  {
   "cell_type": "markdown",
   "id": "7d019519",
   "metadata": {},
   "source": [
    "## Author\n",
    "\n",
    "Chris Popiel"
   ]
  },
  {
   "cell_type": "markdown",
   "id": "7b52e6db",
   "metadata": {},
   "source": [
    "In this notebook, Data Science Tools and Ecosystem are summarized.  "
   ]
  },
  {
   "cell_type": "markdown",
   "id": "29fca211",
   "metadata": {},
   "source": [
    "**Objectives:**\n",
    "- List popular programming languages for Data Scientists\n",
    "- List commonly used libraries for Data Scientists\n",
    "- List common Data Science tools\n",
    "- Evaluate simple arithmetic expressions using Python"
   ]
  },
  {
   "cell_type": "markdown",
   "id": "3f8f2caf",
   "metadata": {},
   "source": [
    "Data Scientists use a variety of programming languages. Some of the popular languages are: \n",
    "\n",
    "1. Python\n",
    "2. R\n",
    "3. SQL\n",
    "4. Scala\n",
    "5. Java"
   ]
  },
  {
   "cell_type": "markdown",
   "id": "b55c72d0",
   "metadata": {},
   "source": [
    "Some of the commonly used libraries used by Data Scientists include: \n",
    "\n",
    "1. Pandas\n",
    "2. Numpy\n",
    "3. Matplotlib\n",
    "4. Scikit-learn"
   ]
  },
  {
   "cell_type": "markdown",
   "id": "6c60b877",
   "metadata": {},
   "source": [
    "Below is a table of Data Science Tools: \n",
    "\n",
    "| Data Science Tools |\n",
    "|-----|\n",
    "| Jupyter Notebooks |\n",
    "| GitHub |\n",
    "| RStudio |"
   ]
  },
  {
   "cell_type": "markdown",
   "id": "f73ac2b6",
   "metadata": {},
   "source": [
    "### Below are a few examples of evaluating arithmetic expressions in Python"
   ]
  },
  {
   "cell_type": "code",
   "execution_count": 1,
   "id": "a87aacf8",
   "metadata": {},
   "outputs": [
    {
     "data": {
      "text/plain": [
       "17"
      ]
     },
     "execution_count": 1,
     "metadata": {},
     "output_type": "execute_result"
    }
   ],
   "source": [
    "# This is a simple arithmetic expression to multiply then add integers. \n",
    "(3*4)+5"
   ]
  },
  {
   "cell_type": "code",
   "execution_count": 2,
   "id": "56118809",
   "metadata": {},
   "outputs": [
    {
     "data": {
      "text/plain": [
       "3.3333333333333335"
      ]
     },
     "execution_count": 2,
     "metadata": {},
     "output_type": "execute_result"
    }
   ],
   "source": [
    "# This will convert 200 minutes to hours by dividing by 60. \n",
    "200/60"
   ]
  },
  {
   "cell_type": "markdown",
   "id": "a72378cc",
   "metadata": {},
   "source": []
  }
 ],
 "metadata": {
  "kernelspec": {
   "display_name": "Python 3 (ipykernel)",
   "language": "python",
   "name": "python3"
  },
  "language_info": {
   "codemirror_mode": {
    "name": "ipython",
    "version": 3
   },
   "file_extension": ".py",
   "mimetype": "text/x-python",
   "name": "python",
   "nbconvert_exporter": "python",
   "pygments_lexer": "ipython3",
   "version": "3.11.4"
  }
 },
 "nbformat": 4,
 "nbformat_minor": 5
}
